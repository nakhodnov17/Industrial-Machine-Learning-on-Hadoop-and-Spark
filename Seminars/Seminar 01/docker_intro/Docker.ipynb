{
 "cells": [
  {
   "cell_type": "markdown",
   "metadata": {},
   "source": [
    "# `Industrial Machine Learning on Hadoop and Spark`\n",
    "## `Seminar 01: Docker intro`"
   ]
  },
  {
   "cell_type": "markdown",
   "metadata": {
    "ExecuteTime": {
     "end_time": "2023-01-12T12:12:45.863994Z",
     "start_time": "2023-01-12T12:12:45.860007Z"
    }
   },
   "source": [
    "### `Maks Nakhodnov (nakhodnov17@gmail.com)`\n",
    "#### `Bremen, 2025`"
   ]
  },
  {
   "cell_type": "markdown",
   "metadata": {},
   "source": [
    "What can be learned from this notebook:\n",
    "* Principles of portable application development\n",
    "* Containerization\n",
    "* Docker"
   ]
  },
  {
   "cell_type": "markdown",
   "metadata": {
    "ExecuteTime": {
     "end_time": "2023-01-12T15:33:17.227541Z",
     "start_time": "2023-01-12T15:33:17.218001Z"
    }
   },
   "source": [
    "Source of illustrations: [http://pointful.github.io/docker-intro/#/](http://pointful.github.io/docker-intro/#/)"
   ]
  },
  {
   "cell_type": "markdown",
   "metadata": {},
   "source": [
    "### `What problem are we trying to solve?`"
   ]
  },
  {
   "cell_type": "markdown",
   "metadata": {},
   "source": [
    "* The diversity of development tools and runtime environments requires complex dependency management\n",
    "* Setting up the environment for complex projects becomes a difficult task\n",
    "* Manual management of all components is **non-portable** and **hard to maintain**\n",
    "* Modifying components in an existing system becomes impossible (**dependency hell**)\n",
    "\n",
    "![Example](https://pointful.github.io/docker-intro/docker-img/the-challenge.png)"
   ]
  },
  {
   "cell_type": "markdown",
   "metadata": {},
   "source": [
    "### `Approach to solving the problem`"
   ]
  },
  {
   "cell_type": "markdown",
   "metadata": {},
   "source": [
    "To solve such a problem, **an abstraction mechanism** is needed that allows working with different types of environments and applications in a similar way."
   ]
  },
  {
   "cell_type": "markdown",
   "metadata": {},
   "source": [
    "#### `\"Real world\" solution`"
   ]
  },
  {
   "cell_type": "markdown",
   "metadata": {
    "ExecuteTime": {
     "end_time": "2023-01-12T12:22:52.003136Z",
     "start_time": "2023-01-12T12:22:51.958458Z"
    }
   },
   "source": [
    "![An analogy from everyday life](https://pointful.github.io/docker-intro/docker-img/cargo-transport-pre-1960.png)"
   ]
  },
  {
   "cell_type": "markdown",
   "metadata": {
    "ExecuteTime": {
     "end_time": "2023-01-12T12:24:37.989198Z",
     "start_time": "2023-01-12T12:24:37.955828Z"
    }
   },
   "source": [
    "![Решение](https://pointful.github.io/docker-intro/docker-img/intermodal-shipping-container.png)"
   ]
  },
  {
   "cell_type": "markdown",
   "metadata": {},
   "source": [
    "#### `Returning to software`"
   ]
  },
  {
   "cell_type": "markdown",
   "metadata": {
    "ExecuteTime": {
     "end_time": "2023-01-12T12:26:00.422402Z",
     "start_time": "2023-01-12T12:26:00.377110Z"
    }
   },
   "source": [
    "![ISO-Docker-контейнер](https://pointful.github.io/docker-intro/docker-img/shipping-container-for-code.png)"
   ]
  },
  {
   "cell_type": "markdown",
   "metadata": {},
   "source": [
    "### `Advantages of Docker containers`"
   ]
  },
  {
   "cell_type": "markdown",
   "metadata": {},
   "source": [
    "* **Encapsulation** of infrastructure components\n",
    "* **Platform independence** (both hardware and software levels)\n",
    "* Infrastructure as **code** (versioning, snapshots, reproducibility)\n",
    "* **Isolation** of code, environments, and runtimes\n",
    "* **Automation** of routine operations (testing, deployment, CI/CD)\n",
    "* Simplified creation of **resilient** services\n",
    "* **Simplified** collaboration between different development teams\n",
    "* Easier work on **software integration** by third-party developers\n",
    "\n",
    "And all of this with minimal resource overhead!"
   ]
  },
  {
   "cell_type": "markdown",
   "metadata": {},
   "source": [
    "### `What's under the hood?`"
   ]
  },
  {
   "cell_type": "markdown",
   "metadata": {},
   "source": [
    "* Docker uses the **host OS kernel**\n",
    "* Through **resource isolation**, it allows creating **isolated** groups of processes and file systems"
   ]
  },
  {
   "cell_type": "markdown",
   "metadata": {},
   "source": [
    "### `Differences from VM / Hypervisor`"
   ]
  },
  {
   "cell_type": "markdown",
   "metadata": {},
   "source": [
    "- [x] Docker does not launch a separate kernel for each process individually\n",
    "- [x] Containers start up much faster\n",
    "- [x] VMs require more resources to run\n",
    "- [x] Controlling changes and versioning in VMs is difficult\n",
    "- [x] Containers can share resources with each other (binaries, libraries)\n",
    "- [x] When an ~~container~~ image is modified, only the difference between the original and the new version is saved\n",
    "\n",
    "- [ ] VMs provide stronger isolation between each other\n",
    "- [ ] VMs are slightly easier to use"
   ]
  },
  {
   "cell_type": "markdown",
   "metadata": {
    "ExecuteTime": {
     "end_time": "2023-01-12T12:57:56.859610Z",
     "start_time": "2023-01-12T12:57:56.828578Z"
    }
   },
   "source": [
    "![](https://pointful.github.io/docker-intro/docker-img/containers-vs-vms.png)"
   ]
  },
  {
   "cell_type": "markdown",
   "metadata": {},
   "source": [
    "### `Basic Docker infrastructure`"
   ]
  },
  {
   "cell_type": "markdown",
   "metadata": {},
   "source": [
    "![](https://pointful.github.io/docker-intro/docker-img/basics-of-docker-system.png)"
   ]
  },
  {
   "cell_type": "markdown",
   "metadata": {},
   "source": [
    "![](https://pointful.github.io/docker-intro/docker-img/changes-and-updates.png)"
   ]
  },
  {
   "cell_type": "markdown",
   "metadata": {},
   "source": [
    "### `Key Docker concepts`"
   ]
  },
  {
   "cell_type": "markdown",
   "metadata": {},
   "source": [
    "Docker ~~containers~~ images are stored as a **filesystem**. Only at runtime is a process space created. At the same time, processes run through the **host system kernel**!"
   ]
  },
  {
   "cell_type": "markdown",
   "metadata": {},
   "source": [
    "<dl>\n",
    "  <dd>0. Dockerfile — <b>a description of the procedure</b> for creating a container's filesystem</dd>\n",
    "  <dd>1. Layer (<b>layer</b>) — an atomic set of changes to the <b>filesystem</b></dd>\n",
    "  <dd>2. Image (<b>image</b>) — <b>RO</b> filesystem</dd>\n",
    "  <dd>3. Container (<b>container</b>) — an image with a <b>RW</b> layer on top</dd>\n",
    "  <dd>3*. Running container (<b>running container</b>) — a container (RW filesystem) with <b>process space</b></dd>\n",
    "</dl>\n",
    "\n",
    "* A layer is defined by commands in the Dockerfile\n",
    "* An image consists of layers\n",
    "* A container is created from an image\n",
    "* A running container is created from a container"
   ]
  },
  {
   "cell_type": "markdown",
   "metadata": {},
   "source": [
    "![](https://cdn.buttercms.com/CLQJN3yRRcS7oGqm7yKb)"
   ]
  },
  {
   "cell_type": "markdown",
   "metadata": {},
   "source": [
    "### `Description of the Docker image creation process`"
   ]
  },
  {
   "cell_type": "markdown",
   "metadata": {},
   "source": [
    "1. Start with an empty filesystem\n",
    "2. Sequentially, for each command in the Dockerfile:\n",
    "   - 1. **Add** a new RW **layer** on top\n",
    "   - 2. Execute the command and **record the changes** it makes **in the current layer**\n",
    "   - 3. Make the current layer RO\n",
    "3. Make the final layer RO\n",
    "4. Save the resulting set of layers"
   ]
  },
  {
   "cell_type": "markdown",
   "metadata": {},
   "source": [
    "### `Docker Livecycle`"
   ]
  },
  {
   "cell_type": "markdown",
   "metadata": {},
   "source": [
    "![](./Docker%20Livecycle.svg)"
   ]
  },
  {
   "cell_type": "markdown",
   "metadata": {},
   "source": [
    "### `Examples`"
   ]
  },
  {
   "cell_type": "markdown",
   "metadata": {},
   "source": [
    "#### `1. Simple example: Docker Hub`"
   ]
  },
  {
   "cell_type": "markdown",
   "metadata": {},
   "source": [
    "```bash\n",
    "docker pull hello-world\n",
    "docker image ls\n",
    "docker run hello-world\n",
    "docker container ls -a\n",
    "docker rm \"<CONTAINER_ID>\"\n",
    "```"
   ]
  },
  {
   "cell_type": "markdown",
   "metadata": {},
   "source": [
    "#### `2. Docker-hub. Ubuntu`\n",
    "\n",
    "* The first container that can be used in practice\n",
    "* Demonstration of executing commands inside a container (using `ls` as an example)\n",
    "* Overview of run flags (`--rm`, `-i`, `-t`, `-d`, `-p`, `-v`)"
   ]
  },
  {
   "cell_type": "markdown",
   "metadata": {
    "ExecuteTime": {
     "end_time": "2023-01-12T13:59:47.001622Z",
     "start_time": "2023-01-12T13:59:46.985622Z"
    }
   },
   "source": [
    "```bash\n",
    "docker pull ubuntu\n",
    "docker image ls\n",
    "docker run ubuntu ls\n",
    "docker rm \"<CONTAINER_ID>\"\n",
    "# Run with automatic removal on exit\n",
    "docker run --rm ubuntu ls\n",
    "# Run with connection to a pseudo-terminal\n",
    "docker run -i -t ubuntu bash\n",
    "```"
   ]
  },
  {
   "cell_type": "markdown",
   "metadata": {},
   "source": [
    "#### `3.`\n",
    "* Demonstration of changes to the temporary filesystem inside the container\n",
    "* Destruction of the process space"
   ]
  },
  {
   "cell_type": "markdown",
   "metadata": {},
   "source": [
    " ```bash\n",
    " # Running with the -i -t combination allows detaching from the container using ^P^Q\n",
    " docker run -i -t ubuntu bash\n",
    " >> echo \"Hello World\" > ~/test.txt\n",
    " >> cat ~/test.txt\n",
    " # If the --rm flag was specified, the container will be removed along with its filesystem\n",
    " # Without this flag, only the process space is destroyed, while the filesystem remains intact\n",
    " >> exit\n",
    " docker ps -a\n",
    " docker start -i \"<CONTAINER_ID>\"\n",
    " # It can be seen that the filesystem state has not changed\n",
    " >> cat ~/test.txt\n",
    " ```"
   ]
  },
  {
   "cell_type": "markdown",
   "metadata": {},
   "source": [
    "#### `4.`\n",
    "* Demonstration of working with the process space\n",
    "* Detaching from the container\n",
    "* Running in the background"
   ]
  },
  {
   "cell_type": "markdown",
   "metadata": {},
   "source": [
    "```bash\n",
    "docker run -i -t ubuntu bash\n",
    ">> apt update && apt install -y tmux\n",
    "# Create a background application\n",
    ">> tmux new -s run\n",
    ">> while true; do echo >> test.txt; sleep 1; done;\n",
    ">> ^B D\n",
    ">> exit\n",
    "docker start -i \"<CONTAINER_ID>\"\n",
    "# We see that exiting the container this way indeed destroys the process space\n",
    ">> tmux ls\n",
    "# Create a background application again\n",
    ">> tmux new -s run\n",
    ">> while true; do echo \"1\" >> test.txt; sleep 1; done;\n",
    ">> ^B D\n",
    "# Detach from the container\n",
    ">> ^P ^Q\n",
    "docker start -i \"<CONTAINER_ID>\"\n",
    "# We see that the process space remains intact\n",
    ">> tmux ls\n",
    ">> exit\n",
    "\n",
    "# The -d flag can be used to run in the background\n",
    "docker run --rm -d ubuntu bash -c \"while true; do echo '0'; sleep 1; done;\"\n",
    "```"
   ]
  },
  {
   "cell_type": "markdown",
   "metadata": {},
   "source": [
    "#### `5. Building containers from a Dockerfile`"
   ]
  },
  {
   "cell_type": "code",
   "execution_count": 1,
   "metadata": {
    "ExecuteTime": {
     "end_time": "2023-01-12T14:27:34.302498Z",
     "start_time": "2023-01-12T14:27:34.268498Z"
    }
   },
   "outputs": [
    {
     "data": {
      "text/html": [
       "<style>pre { line-height: 125%; }\n",
       "td.linenos .normal { color: inherit; background-color: transparent; padding-left: 5px; padding-right: 5px; }\n",
       "span.linenos { color: inherit; background-color: transparent; padding-left: 5px; padding-right: 5px; }\n",
       "td.linenos .special { color: #000000; background-color: #ffffc0; padding-left: 5px; padding-right: 5px; }\n",
       "span.linenos.special { color: #000000; background-color: #ffffc0; padding-left: 5px; padding-right: 5px; }\n",
       ".output_html .hll { background-color: #ffffcc }\n",
       ".output_html { background: #f8f8f8; }\n",
       ".output_html .c { color: #3D7B7B; font-style: italic } /* Comment */\n",
       ".output_html .err { border: 1px solid #FF0000 } /* Error */\n",
       ".output_html .k { color: #008000; font-weight: bold } /* Keyword */\n",
       ".output_html .o { color: #666666 } /* Operator */\n",
       ".output_html .ch { color: #3D7B7B; font-style: italic } /* Comment.Hashbang */\n",
       ".output_html .cm { color: #3D7B7B; font-style: italic } /* Comment.Multiline */\n",
       ".output_html .cp { color: #9C6500 } /* Comment.Preproc */\n",
       ".output_html .cpf { color: #3D7B7B; font-style: italic } /* Comment.PreprocFile */\n",
       ".output_html .c1 { color: #3D7B7B; font-style: italic } /* Comment.Single */\n",
       ".output_html .cs { color: #3D7B7B; font-style: italic } /* Comment.Special */\n",
       ".output_html .gd { color: #A00000 } /* Generic.Deleted */\n",
       ".output_html .ge { font-style: italic } /* Generic.Emph */\n",
       ".output_html .gr { color: #E40000 } /* Generic.Error */\n",
       ".output_html .gh { color: #000080; font-weight: bold } /* Generic.Heading */\n",
       ".output_html .gi { color: #008400 } /* Generic.Inserted */\n",
       ".output_html .go { color: #717171 } /* Generic.Output */\n",
       ".output_html .gp { color: #000080; font-weight: bold } /* Generic.Prompt */\n",
       ".output_html .gs { font-weight: bold } /* Generic.Strong */\n",
       ".output_html .gu { color: #800080; font-weight: bold } /* Generic.Subheading */\n",
       ".output_html .gt { color: #0044DD } /* Generic.Traceback */\n",
       ".output_html .kc { color: #008000; font-weight: bold } /* Keyword.Constant */\n",
       ".output_html .kd { color: #008000; font-weight: bold } /* Keyword.Declaration */\n",
       ".output_html .kn { color: #008000; font-weight: bold } /* Keyword.Namespace */\n",
       ".output_html .kp { color: #008000 } /* Keyword.Pseudo */\n",
       ".output_html .kr { color: #008000; font-weight: bold } /* Keyword.Reserved */\n",
       ".output_html .kt { color: #B00040 } /* Keyword.Type */\n",
       ".output_html .m { color: #666666 } /* Literal.Number */\n",
       ".output_html .s { color: #BA2121 } /* Literal.String */\n",
       ".output_html .na { color: #687822 } /* Name.Attribute */\n",
       ".output_html .nb { color: #008000 } /* Name.Builtin */\n",
       ".output_html .nc { color: #0000FF; font-weight: bold } /* Name.Class */\n",
       ".output_html .no { color: #880000 } /* Name.Constant */\n",
       ".output_html .nd { color: #AA22FF } /* Name.Decorator */\n",
       ".output_html .ni { color: #717171; font-weight: bold } /* Name.Entity */\n",
       ".output_html .ne { color: #CB3F38; font-weight: bold } /* Name.Exception */\n",
       ".output_html .nf { color: #0000FF } /* Name.Function */\n",
       ".output_html .nl { color: #767600 } /* Name.Label */\n",
       ".output_html .nn { color: #0000FF; font-weight: bold } /* Name.Namespace */\n",
       ".output_html .nt { color: #008000; font-weight: bold } /* Name.Tag */\n",
       ".output_html .nv { color: #19177C } /* Name.Variable */\n",
       ".output_html .ow { color: #AA22FF; font-weight: bold } /* Operator.Word */\n",
       ".output_html .w { color: #bbbbbb } /* Text.Whitespace */\n",
       ".output_html .mb { color: #666666 } /* Literal.Number.Bin */\n",
       ".output_html .mf { color: #666666 } /* Literal.Number.Float */\n",
       ".output_html .mh { color: #666666 } /* Literal.Number.Hex */\n",
       ".output_html .mi { color: #666666 } /* Literal.Number.Integer */\n",
       ".output_html .mo { color: #666666 } /* Literal.Number.Oct */\n",
       ".output_html .sa { color: #BA2121 } /* Literal.String.Affix */\n",
       ".output_html .sb { color: #BA2121 } /* Literal.String.Backtick */\n",
       ".output_html .sc { color: #BA2121 } /* Literal.String.Char */\n",
       ".output_html .dl { color: #BA2121 } /* Literal.String.Delimiter */\n",
       ".output_html .sd { color: #BA2121; font-style: italic } /* Literal.String.Doc */\n",
       ".output_html .s2 { color: #BA2121 } /* Literal.String.Double */\n",
       ".output_html .se { color: #AA5D1F; font-weight: bold } /* Literal.String.Escape */\n",
       ".output_html .sh { color: #BA2121 } /* Literal.String.Heredoc */\n",
       ".output_html .si { color: #A45A77; font-weight: bold } /* Literal.String.Interpol */\n",
       ".output_html .sx { color: #008000 } /* Literal.String.Other */\n",
       ".output_html .sr { color: #A45A77 } /* Literal.String.Regex */\n",
       ".output_html .s1 { color: #BA2121 } /* Literal.String.Single */\n",
       ".output_html .ss { color: #19177C } /* Literal.String.Symbol */\n",
       ".output_html .bp { color: #008000 } /* Name.Builtin.Pseudo */\n",
       ".output_html .fm { color: #0000FF } /* Name.Function.Magic */\n",
       ".output_html .vc { color: #19177C } /* Name.Variable.Class */\n",
       ".output_html .vg { color: #19177C } /* Name.Variable.Global */\n",
       ".output_html .vi { color: #19177C } /* Name.Variable.Instance */\n",
       ".output_html .vm { color: #19177C } /* Name.Variable.Magic */\n",
       ".output_html .il { color: #666666 } /* Literal.Number.Integer.Long */</style><div class=\"highlight\"><pre><span></span><span class=\"kn\">import</span> <span class=\"nn\">os</span>\n",
       "\n",
       "\n",
       "<span class=\"k\">if</span> <span class=\"vm\">__name__</span> <span class=\"o\">==</span> <span class=\"s1\">&#39;__main__&#39;</span><span class=\"p\">:</span>\n",
       "    <span class=\"k\">if</span> <span class=\"n\">os</span><span class=\"o\">.</span><span class=\"n\">path</span><span class=\"o\">.</span><span class=\"n\">exists</span><span class=\"p\">(</span><span class=\"s1\">&#39;/root/data/data.txt&#39;</span><span class=\"p\">):</span>\n",
       "        <span class=\"k\">with</span> <span class=\"nb\">open</span><span class=\"p\">(</span><span class=\"s1\">&#39;/root/data/data.txt&#39;</span><span class=\"p\">,</span> <span class=\"s1\">&#39;r&#39;</span><span class=\"p\">,</span> <span class=\"n\">encoding</span><span class=\"o\">=</span><span class=\"s1\">&#39;utf-8&#39;</span><span class=\"p\">)</span> <span class=\"k\">as</span> <span class=\"n\">infile</span><span class=\"p\">:</span>\n",
       "            <span class=\"n\">result</span> <span class=\"o\">=</span> <span class=\"nb\">sum</span><span class=\"p\">((</span><span class=\"nb\">float</span><span class=\"p\">(</span><span class=\"n\">line</span><span class=\"o\">.</span><span class=\"n\">strip</span><span class=\"p\">())</span> <span class=\"k\">for</span> <span class=\"n\">line</span> <span class=\"ow\">in</span> <span class=\"n\">infile</span><span class=\"p\">))</span>\n",
       "            <span class=\"nb\">print</span><span class=\"p\">(</span><span class=\"s1\">&#39;Sum is equal to : </span><span class=\"si\">{0:.3f}</span><span class=\"s1\">&#39;</span><span class=\"o\">.</span><span class=\"n\">format</span><span class=\"p\">(</span><span class=\"n\">result</span><span class=\"p\">))</span>\n",
       "    <span class=\"k\">else</span><span class=\"p\">:</span>\n",
       "        <span class=\"nb\">print</span><span class=\"p\">(</span><span class=\"s1\">&#39;File /root/data/data.txt does not exist&#39;</span><span class=\"p\">)</span>\n",
       "\n",
       "    <span class=\"nb\">print</span><span class=\"p\">(</span><span class=\"s1\">&#39;SECRET_KEY env variable is equal to: </span><span class=\"si\">{0}</span><span class=\"s1\">&#39;</span><span class=\"o\">.</span><span class=\"n\">format</span><span class=\"p\">(</span><span class=\"n\">os</span><span class=\"o\">.</span><span class=\"n\">environ</span><span class=\"o\">.</span><span class=\"n\">get</span><span class=\"p\">(</span><span class=\"s1\">&#39;SECRET_KEY&#39;</span><span class=\"p\">,</span> <span class=\"s1\">&#39;&#39;</span><span class=\"p\">)))</span>\n",
       "</pre></div>\n"
      ],
      "text/latex": [
       "\\begin{Verbatim}[commandchars=\\\\\\{\\}]\n",
       "\\PY{k+kn}{import} \\PY{n+nn}{os}\n",
       "\n",
       "\n",
       "\\PY{k}{if} \\PY{n+nv+vm}{\\PYZus{}\\PYZus{}name\\PYZus{}\\PYZus{}} \\PY{o}{==} \\PY{l+s+s1}{\\PYZsq{}}\\PY{l+s+s1}{\\PYZus{}\\PYZus{}main\\PYZus{}\\PYZus{}}\\PY{l+s+s1}{\\PYZsq{}}\\PY{p}{:}\n",
       "    \\PY{k}{if} \\PY{n}{os}\\PY{o}{.}\\PY{n}{path}\\PY{o}{.}\\PY{n}{exists}\\PY{p}{(}\\PY{l+s+s1}{\\PYZsq{}}\\PY{l+s+s1}{/root/data/data.txt}\\PY{l+s+s1}{\\PYZsq{}}\\PY{p}{)}\\PY{p}{:}\n",
       "        \\PY{k}{with} \\PY{n+nb}{open}\\PY{p}{(}\\PY{l+s+s1}{\\PYZsq{}}\\PY{l+s+s1}{/root/data/data.txt}\\PY{l+s+s1}{\\PYZsq{}}\\PY{p}{,} \\PY{l+s+s1}{\\PYZsq{}}\\PY{l+s+s1}{r}\\PY{l+s+s1}{\\PYZsq{}}\\PY{p}{,} \\PY{n}{encoding}\\PY{o}{=}\\PY{l+s+s1}{\\PYZsq{}}\\PY{l+s+s1}{utf\\PYZhy{}8}\\PY{l+s+s1}{\\PYZsq{}}\\PY{p}{)} \\PY{k}{as} \\PY{n}{infile}\\PY{p}{:}\n",
       "            \\PY{n}{result} \\PY{o}{=} \\PY{n+nb}{sum}\\PY{p}{(}\\PY{p}{(}\\PY{n+nb}{float}\\PY{p}{(}\\PY{n}{line}\\PY{o}{.}\\PY{n}{strip}\\PY{p}{(}\\PY{p}{)}\\PY{p}{)} \\PY{k}{for} \\PY{n}{line} \\PY{o+ow}{in} \\PY{n}{infile}\\PY{p}{)}\\PY{p}{)}\n",
       "            \\PY{n+nb}{print}\\PY{p}{(}\\PY{l+s+s1}{\\PYZsq{}}\\PY{l+s+s1}{Sum is equal to : }\\PY{l+s+si}{\\PYZob{}0:.3f\\PYZcb{}}\\PY{l+s+s1}{\\PYZsq{}}\\PY{o}{.}\\PY{n}{format}\\PY{p}{(}\\PY{n}{result}\\PY{p}{)}\\PY{p}{)}\n",
       "    \\PY{k}{else}\\PY{p}{:}\n",
       "        \\PY{n+nb}{print}\\PY{p}{(}\\PY{l+s+s1}{\\PYZsq{}}\\PY{l+s+s1}{File /root/data/data.txt does not exist}\\PY{l+s+s1}{\\PYZsq{}}\\PY{p}{)}\n",
       "\n",
       "    \\PY{n+nb}{print}\\PY{p}{(}\\PY{l+s+s1}{\\PYZsq{}}\\PY{l+s+s1}{SECRET\\PYZus{}KEY env variable is equal to: }\\PY{l+s+si}{\\PYZob{}0\\PYZcb{}}\\PY{l+s+s1}{\\PYZsq{}}\\PY{o}{.}\\PY{n}{format}\\PY{p}{(}\\PY{n}{os}\\PY{o}{.}\\PY{n}{environ}\\PY{o}{.}\\PY{n}{get}\\PY{p}{(}\\PY{l+s+s1}{\\PYZsq{}}\\PY{l+s+s1}{SECRET\\PYZus{}KEY}\\PY{l+s+s1}{\\PYZsq{}}\\PY{p}{,} \\PY{l+s+s1}{\\PYZsq{}}\\PY{l+s+s1}{\\PYZsq{}}\\PY{p}{)}\\PY{p}{)}\\PY{p}{)}\n",
       "\\end{Verbatim}\n"
      ],
      "text/plain": [
       "import os\n",
       "\n",
       "\n",
       "if __name__ == '__main__':\n",
       "    if os.path.exists('/root/data/data.txt'):\n",
       "        with open('/root/data/data.txt', 'r', encoding='utf-8') as infile:\n",
       "            result = sum((float(line.strip()) for line in infile))\n",
       "            print('Sum is equal to : {0:.3f}'.format(result))\n",
       "    else:\n",
       "        print('File /root/data/data.txt does not exist')\n",
       "\n",
       "    print('SECRET_KEY env variable is equal to: {0}'.format(os.environ.get('SECRET_KEY', '')))"
      ]
     },
     "execution_count": 1,
     "metadata": {},
     "output_type": "execute_result"
    }
   ],
   "source": [
    "from IPython.display import Code\n",
    "Code('./example.py', language='python')"
   ]
  },
  {
   "cell_type": "code",
   "execution_count": 2,
   "metadata": {
    "ExecuteTime": {
     "end_time": "2023-01-12T14:27:34.536499Z",
     "start_time": "2023-01-12T14:27:34.303501Z"
    }
   },
   "outputs": [
    {
     "name": "stdout",
     "output_type": "stream",
     "text": [
      "1.234\n",
      "2.345\n",
      "3.4314\n"
     ]
    }
   ],
   "source": [
    "! wsl echo $'1.234\\n2.345\\n3.4314' > data.txt\n",
    "! wsl cat data.txt"
   ]
  },
  {
   "cell_type": "code",
   "execution_count": 3,
   "metadata": {
    "ExecuteTime": {
     "end_time": "2023-01-12T14:27:34.551500Z",
     "start_time": "2023-01-12T14:27:34.537500Z"
    }
   },
   "outputs": [
    {
     "data": {
      "text/html": [
       "<style>pre { line-height: 125%; }\n",
       "td.linenos .normal { color: inherit; background-color: transparent; padding-left: 5px; padding-right: 5px; }\n",
       "span.linenos { color: inherit; background-color: transparent; padding-left: 5px; padding-right: 5px; }\n",
       "td.linenos .special { color: #000000; background-color: #ffffc0; padding-left: 5px; padding-right: 5px; }\n",
       "span.linenos.special { color: #000000; background-color: #ffffc0; padding-left: 5px; padding-right: 5px; }\n",
       ".output_html .hll { background-color: #ffffcc }\n",
       ".output_html { background: #f8f8f8; }\n",
       ".output_html .c { color: #3D7B7B; font-style: italic } /* Comment */\n",
       ".output_html .err { border: 1px solid #FF0000 } /* Error */\n",
       ".output_html .k { color: #008000; font-weight: bold } /* Keyword */\n",
       ".output_html .o { color: #666666 } /* Operator */\n",
       ".output_html .ch { color: #3D7B7B; font-style: italic } /* Comment.Hashbang */\n",
       ".output_html .cm { color: #3D7B7B; font-style: italic } /* Comment.Multiline */\n",
       ".output_html .cp { color: #9C6500 } /* Comment.Preproc */\n",
       ".output_html .cpf { color: #3D7B7B; font-style: italic } /* Comment.PreprocFile */\n",
       ".output_html .c1 { color: #3D7B7B; font-style: italic } /* Comment.Single */\n",
       ".output_html .cs { color: #3D7B7B; font-style: italic } /* Comment.Special */\n",
       ".output_html .gd { color: #A00000 } /* Generic.Deleted */\n",
       ".output_html .ge { font-style: italic } /* Generic.Emph */\n",
       ".output_html .gr { color: #E40000 } /* Generic.Error */\n",
       ".output_html .gh { color: #000080; font-weight: bold } /* Generic.Heading */\n",
       ".output_html .gi { color: #008400 } /* Generic.Inserted */\n",
       ".output_html .go { color: #717171 } /* Generic.Output */\n",
       ".output_html .gp { color: #000080; font-weight: bold } /* Generic.Prompt */\n",
       ".output_html .gs { font-weight: bold } /* Generic.Strong */\n",
       ".output_html .gu { color: #800080; font-weight: bold } /* Generic.Subheading */\n",
       ".output_html .gt { color: #0044DD } /* Generic.Traceback */\n",
       ".output_html .kc { color: #008000; font-weight: bold } /* Keyword.Constant */\n",
       ".output_html .kd { color: #008000; font-weight: bold } /* Keyword.Declaration */\n",
       ".output_html .kn { color: #008000; font-weight: bold } /* Keyword.Namespace */\n",
       ".output_html .kp { color: #008000 } /* Keyword.Pseudo */\n",
       ".output_html .kr { color: #008000; font-weight: bold } /* Keyword.Reserved */\n",
       ".output_html .kt { color: #B00040 } /* Keyword.Type */\n",
       ".output_html .m { color: #666666 } /* Literal.Number */\n",
       ".output_html .s { color: #BA2121 } /* Literal.String */\n",
       ".output_html .na { color: #687822 } /* Name.Attribute */\n",
       ".output_html .nb { color: #008000 } /* Name.Builtin */\n",
       ".output_html .nc { color: #0000FF; font-weight: bold } /* Name.Class */\n",
       ".output_html .no { color: #880000 } /* Name.Constant */\n",
       ".output_html .nd { color: #AA22FF } /* Name.Decorator */\n",
       ".output_html .ni { color: #717171; font-weight: bold } /* Name.Entity */\n",
       ".output_html .ne { color: #CB3F38; font-weight: bold } /* Name.Exception */\n",
       ".output_html .nf { color: #0000FF } /* Name.Function */\n",
       ".output_html .nl { color: #767600 } /* Name.Label */\n",
       ".output_html .nn { color: #0000FF; font-weight: bold } /* Name.Namespace */\n",
       ".output_html .nt { color: #008000; font-weight: bold } /* Name.Tag */\n",
       ".output_html .nv { color: #19177C } /* Name.Variable */\n",
       ".output_html .ow { color: #AA22FF; font-weight: bold } /* Operator.Word */\n",
       ".output_html .w { color: #bbbbbb } /* Text.Whitespace */\n",
       ".output_html .mb { color: #666666 } /* Literal.Number.Bin */\n",
       ".output_html .mf { color: #666666 } /* Literal.Number.Float */\n",
       ".output_html .mh { color: #666666 } /* Literal.Number.Hex */\n",
       ".output_html .mi { color: #666666 } /* Literal.Number.Integer */\n",
       ".output_html .mo { color: #666666 } /* Literal.Number.Oct */\n",
       ".output_html .sa { color: #BA2121 } /* Literal.String.Affix */\n",
       ".output_html .sb { color: #BA2121 } /* Literal.String.Backtick */\n",
       ".output_html .sc { color: #BA2121 } /* Literal.String.Char */\n",
       ".output_html .dl { color: #BA2121 } /* Literal.String.Delimiter */\n",
       ".output_html .sd { color: #BA2121; font-style: italic } /* Literal.String.Doc */\n",
       ".output_html .s2 { color: #BA2121 } /* Literal.String.Double */\n",
       ".output_html .se { color: #AA5D1F; font-weight: bold } /* Literal.String.Escape */\n",
       ".output_html .sh { color: #BA2121 } /* Literal.String.Heredoc */\n",
       ".output_html .si { color: #A45A77; font-weight: bold } /* Literal.String.Interpol */\n",
       ".output_html .sx { color: #008000 } /* Literal.String.Other */\n",
       ".output_html .sr { color: #A45A77 } /* Literal.String.Regex */\n",
       ".output_html .s1 { color: #BA2121 } /* Literal.String.Single */\n",
       ".output_html .ss { color: #19177C } /* Literal.String.Symbol */\n",
       ".output_html .bp { color: #008000 } /* Name.Builtin.Pseudo */\n",
       ".output_html .fm { color: #0000FF } /* Name.Function.Magic */\n",
       ".output_html .vc { color: #19177C } /* Name.Variable.Class */\n",
       ".output_html .vg { color: #19177C } /* Name.Variable.Global */\n",
       ".output_html .vi { color: #19177C } /* Name.Variable.Instance */\n",
       ".output_html .vm { color: #19177C } /* Name.Variable.Magic */\n",
       ".output_html .il { color: #666666 } /* Literal.Number.Integer.Long */</style><div class=\"highlight\"><pre><span></span><span class=\"k\">FROM</span><span class=\"w\"> </span><span class=\"s\">python:3.11-slim</span>\n",
       "\n",
       "<span class=\"k\">RUN</span><span class=\"w\"> </span>mkdir /root/app\n",
       "<span class=\"k\">WORKDIR</span><span class=\"w\"> </span><span class=\"s\">/root/app</span>\n",
       "\n",
       "<span class=\"k\">COPY</span><span class=\"w\"> </span>./example.py ./\n",
       "<span class=\"k\">RUN</span><span class=\"w\"> </span>chmod +x example.py\n",
       "\n",
       "<span class=\"k\">ENV</span><span class=\"w\"> </span>SECRET_KEY hello\n",
       "\n",
       "<span class=\"k\">CMD</span><span class=\"w\"> </span><span class=\"p\">[</span><span class=\"s2\">&quot;python3&quot;</span><span class=\"p\">,</span><span class=\"w\"> </span><span class=\"s2\">&quot;example.py&quot;</span><span class=\"p\">]</span>\n",
       "</pre></div>\n"
      ],
      "text/latex": [
       "\\begin{Verbatim}[commandchars=\\\\\\{\\}]\n",
       "\\PY{k}{FROM}\\PY{+w}{ }\\PY{l+s}{python:3.11\\PYZhy{}slim}\n",
       "\n",
       "\\PY{k}{RUN}\\PY{+w}{ }mkdir /root/app\n",
       "\\PY{k}{WORKDIR}\\PY{+w}{ }\\PY{l+s}{/root/app}\n",
       "\n",
       "\\PY{k}{COPY}\\PY{+w}{ }./example.py ./\n",
       "\\PY{k}{RUN}\\PY{+w}{ }chmod +x example.py\n",
       "\n",
       "\\PY{k}{ENV}\\PY{+w}{ }SECRET\\PYZus{}KEY hello\n",
       "\n",
       "\\PY{k}{CMD}\\PY{+w}{ }\\PY{p}{[}\\PY{l+s+s2}{\\PYZdq{}python3\\PYZdq{}}\\PY{p}{,}\\PY{+w}{ }\\PY{l+s+s2}{\\PYZdq{}example.py\\PYZdq{}}\\PY{p}{]}\n",
       "\\end{Verbatim}\n"
      ],
      "text/plain": [
       "FROM python:3.11-slim\n",
       "\n",
       "RUN mkdir /root/app\n",
       "WORKDIR /root/app\n",
       "\n",
       "COPY ./example.py ./\n",
       "RUN chmod +x example.py\n",
       "\n",
       "ENV SECRET_KEY hello\n",
       "\n",
       "CMD [\"python3\", \"example.py\"]"
      ]
     },
     "execution_count": 3,
     "metadata": {},
     "output_type": "execute_result"
    }
   ],
   "source": [
    "Code('./Dockerfile', language='Dockerfile')"
   ]
  },
  {
   "cell_type": "markdown",
   "metadata": {
    "ExecuteTime": {
     "end_time": "2023-01-12T14:23:11.689097Z",
     "start_time": "2023-01-12T14:23:11.678100Z"
    }
   },
   "source": [
    "```bash\n",
    "# # Build the container\n",
    "docker build -t maksim64/test_app .\n",
    "\n",
    "# Run the container\n",
    "docker run maksim64/test_app\n",
    "\n",
    "# Run with environment variables\n",
    "docker run -e SECRET_KEY=hi maksim64/test_app\n",
    "    \n",
    "# Run with directory mounting\n",
    "docker run -e SECRET_KEY=hi -v \"./:/root/data\" maksim64/test_app\n",
    "```"
   ]
  },
  {
   "cell_type": "markdown",
   "metadata": {},
   "source": [
    "### `Cheat sheet for essential Docker commands`"
   ]
  },
  {
   "cell_type": "markdown",
   "metadata": {},
   "source": [
    "```bash\n",
    "# Pull a container from a repository\n",
    "docker pull container_name\n",
    "```"
   ]
  },
  {
   "cell_type": "markdown",
   "metadata": {
    "ExecuteTime": {
     "end_time": "2023-01-12T13:03:12.701685Z",
     "start_time": "2023-01-12T13:03:12.694684Z"
    }
   },
   "source": [
    "```bash\n",
    "# Run a container\n",
    "docker run \\\n",
    "    [-d] [-i] [-t] [-p 1234:5000] [-v local_path:container_path] [-w container_working_path] container_name [COMMAND]\n",
    "# Here\n",
    "# -d -- run in detached (background) mode\n",
    "# -i -- interactive mode, allowing input to the container\n",
    "# -t -- create a pseudo-TTY\n",
    "# -p -- map container port 5000 to local port 1234\n",
    "# -v -- mount local file/folder local_path into the container at container_path\n",
    "# -w -- set the working directory inside the container\n",
    "# container_name -- name of the container\n",
    "# COMMAND -- command to execute inside the container\n",
    "\n",
    "# Examples:\n",
    "# docker run hello-world       # runs the default command inside the hello-world container\n",
    "# docker run -i -t ubuntu bash # runs a bash shell inside the ubuntu container, \n",
    "#                                with a pseudo-TTY (-t) and interactive input (-i)\n",
    "```"
   ]
  },
  {
   "cell_type": "markdown",
   "metadata": {},
   "source": [
    "```bash\n",
    "# View the list of running [or previously run] containers\n",
    "docker ps [-a]\n",
    "```"
   ]
  },
  {
   "cell_type": "markdown",
   "metadata": {},
   "source": [
    "```bash\n",
    "# View the list of processes inside a running container\n",
    "docker top CONTAINER_ID\n",
    "```"
   ]
  },
  {
   "cell_type": "markdown",
   "metadata": {},
   "source": [
    "```bash\n",
    "# Stop a container (i.e., send it a SIGTERM and allow it time to shut down gracefully)\n",
    "docker stop CONTAINER_ID\n",
    "```"
   ]
  },
  {
   "cell_type": "markdown",
   "metadata": {},
   "source": [
    "```bash\n",
    "# Kill a container (i.e., send it a SIGKILL and terminate immediately)\n",
    "docker kill CONTAINER_ID\n",
    "```"
   ]
  },
  {
   "cell_type": "markdown",
   "metadata": {},
   "source": [
    "```bash\n",
    "# Remove a container (-f to force-remove a running one)\n",
    "docker rm [-f] CONTAINER_ID\n",
    "```"
   ]
  },
  {
   "cell_type": "markdown",
   "metadata": {},
   "source": [
    "```bash\n",
    "# Stop all containers and remove them\n",
    "docker stop $(docker ps -a -q) && docker rm $(docker ps -a -q)\n",
    "```"
   ]
  },
  {
   "cell_type": "markdown",
   "metadata": {},
   "source": [
    "```bash\n",
    "# Create an image in the repository repo_name with the name image_name and tag image_tag (usually latest)\n",
    "docker commit -m \"message\" CONTAINER_ID repo_name/image_name:image_tag\n",
    "```"
   ]
  },
  {
   "cell_type": "markdown",
   "metadata": {},
   "source": [
    "```bash\n",
    "# View the list of images [including intermediate images]\n",
    "docker images [-a]\n",
    "```"
   ]
  },
  {
   "cell_type": "markdown",
   "metadata": {},
   "source": [
    "```bash\n",
    "# Remove an image\n",
    "docker image rm IMAGE_ID\n",
    "```"
   ]
  },
  {
   "cell_type": "markdown",
   "metadata": {},
   "source": [
    "```bash\n",
    "# Build an image from a Dockerfile (if a Dockerfile is in the local directory)\n",
    "docker build [--no-cache] -t repo_name/image_name:image_tag .\n",
    "```"
   ]
  },
  {
   "cell_type": "markdown",
   "metadata": {},
   "source": [
    "```bash\n",
    "# Push an image to a public repository on hub.docker.com (the repo_name must match the name of your repository)\n",
    "docker push repo_name/image_name:image_tag\n",
    "```"
   ]
  }
 ],
 "metadata": {
  "kernelspec": {
   "display_name": "Python 3 (ipykernel)",
   "language": "python",
   "name": "python3"
  },
  "language_info": {
   "codemirror_mode": {
    "name": "ipython",
    "version": 3
   },
   "file_extension": ".py",
   "mimetype": "text/x-python",
   "name": "python",
   "nbconvert_exporter": "python",
   "pygments_lexer": "ipython3",
   "version": "3.12.3"
  },
  "pycharm": {
   "stem_cell": {
    "cell_type": "raw",
    "metadata": {
     "collapsed": false
    },
    "source": []
   }
  },
  "toc": {
   "base_numbering": 1,
   "nav_menu": {},
   "number_sections": false,
   "sideBar": true,
   "skip_h1_title": false,
   "title_cell": "Table of Contents",
   "title_sidebar": "Contents",
   "toc_cell": false,
   "toc_position": {},
   "toc_section_display": true,
   "toc_window_display": false
  }
 },
 "nbformat": 4,
 "nbformat_minor": 2
}
